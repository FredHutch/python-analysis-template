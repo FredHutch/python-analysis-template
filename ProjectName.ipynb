{
 "cells": [
  {
   "cell_type": "markdown",
   "metadata": {},
   "source": [
    "## Project Results Template\n",
    "- Author: \n",
    "- Last Updated: \n",
    "- Reviewer: \n",
    "\n",
    "You can use a jupyter notebook to develop, present, or interact with your project results. \n",
    "\n",
    "### Template Resources\n",
    "\n",
    "There are many [web resources](https://www.datacamp.com/community/tutorials/tutorial-jupyter-notebook) available to learn more about jupyter notebooks. Or check out [Hutch Learning](http://www.fredhutch.io/) or the Coop Newsletter (email `thecoop` to join the mailing list) to see course offerings here at Fred Hutch. "
   ]
  },
  {
   "cell_type": "code",
   "execution_count": null,
   "metadata": {},
   "outputs": [],
   "source": []
  }
 ],
 "metadata": {
  "kernelspec": {
   "display_name": "Python 3",
   "language": "python",
   "name": "python3"
  },
  "language_info": {
   "codemirror_mode": {
    "name": "ipython",
    "version": 3
   },
   "file_extension": ".py",
   "mimetype": "text/x-python",
   "name": "python",
   "nbconvert_exporter": "python",
   "pygments_lexer": "ipython3",
   "version": "3.7.1"
  }
 },
 "nbformat": 4,
 "nbformat_minor": 2
}
